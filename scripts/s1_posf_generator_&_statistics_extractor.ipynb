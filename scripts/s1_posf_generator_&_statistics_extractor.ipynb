{
 "cells": [
  {
   "cell_type": "markdown",
   "id": "ba8338ac-9588-40af-a99e-092a4bc4c22a",
   "metadata": {},
   "source": [
    "# Libraries and routines"
   ]
  },
  {
   "cell_type": "code",
   "execution_count": 1,
   "id": "508c0876-9c97-46cd-b482-3eaacc64f52a",
   "metadata": {
    "tags": []
   },
   "outputs": [],
   "source": [
    "import os, sys\n",
    "sys.path.append(os.path.abspath(\"/projects/QUIJOTE/Neerav/UNIVERSAL\"))\n",
    "from proj1_libraries import *\n",
    "from proj1_routines  import *"
   ]
  },
  {
   "cell_type": "markdown",
   "id": "9644a521-0f8b-4d13-ab9c-2667d1a06220",
   "metadata": {},
   "source": [
    "# Parameters "
   ]
  },
  {
   "cell_type": "code",
   "execution_count": 2,
   "id": "5d6ad37b-c69f-4d7f-bb32-b0fceb40870c",
   "metadata": {
    "tags": []
   },
   "outputs": [],
   "source": [
    "do_RSD        = False\n",
    "axis          = 0 \n",
    "threads       = 32\n",
    "x_min, x_max  = 0.0, 1000\n",
    "y_min, y_max  = 0.0, 1000\n",
    "z_min, z_max  = 0.0, 1000\n",
    "boxsize       = 1000\n",
    "ptypes        = [1]\n",
    "grid          = 512\n",
    "dpi           = 300\n",
    "#poslag        = np.load(\"/projects/QUIJOTE/Neerav/DATA/project_1_results/poslag.npy\") #----EDIT\n",
    "#rootdir       = \"/projects/QUIJOTE/Neerav\"\n",
    "rootdir      = \"/scratch/gpfs/QUIJOTE\"\n",
    "pkMAS         = 3*['CIC'] #--------------EDIT\n",
    "bispectrumMAS = ['CIC']\n",
    "deltaMAS      = 'CIC'\n",
    "splits        = 20\n",
    "theta         = np.linspace(0, np.pi, splits)\n",
    "k1, k2        = 0.15, 0.25\n",
    "start, stop   = 130, 139 #------------------------------EDIT\n",
    "\n",
    "CHOICE = 2 #----power spectra = 1, bispectra = 2\n",
    "print_stats = 0\n",
    "print_runtime = 1"
   ]
  },
  {
   "cell_type": "markdown",
   "id": "151abc3f-19fe-4af2-97e9-6bc5295d7171",
   "metadata": {},
   "source": [
    "# Final positions from displacements"
   ]
  },
  {
   "cell_type": "code",
   "execution_count": null,
   "id": "6454bf56-7ec1-45fa-b3da-97bf9b42e4a8",
   "metadata": {
    "jupyter": {
     "source_hidden": true
    },
    "tags": []
   },
   "outputs": [],
   "source": [
    "# path_to_save='/scratch/gpfs/QUIJOTE/FINAL/DATA'\n",
    "# if not os.path.exists(path_to_save):\n",
    "#     os.makedirs(path_to_save)\n",
    "\n",
    "# for real in range(start,stop+1):    \n",
    "#     posf_quij        = get_final_pos(poslag, rootdir, \"datasets\", \"temp_data/LH_quijdisp_%d.npy\"%real)\n",
    "#     posf_cola        = get_final_pos(poslag, rootdir, \"datasets\", \"temp_data/LH_coladisp_%d.npy\"%real)\n",
    "#     posf_za          = get_final_pos(poslag, rootdir, \"datasets\", \"temp_data/LH_zadisp_%d.npy\"%real)\n",
    "#     posf_cola2quij   = get_final_pos(poslag, rootdir2, \"FINAL\", \"cola2quij\"  , \"LH_quijdisp_%d_out.npy\"%real)\n",
    "#     posf_za2quij     = get_final_pos(poslag, rootdir2, \"FINAL\", \"za2quij\"    , \"LH_quijdisp_%d_out.npy\"%real)\n",
    "    \n",
    "#     np.save(os.path.join(path_to_save, \"LH_posf_quij_%d.npy\"%real), posf_quij)\n",
    "#     np.save(os.path.join(path_to_save, \"LH_posf_cola_%d.npy\"%real), posf_cola)\n",
    "#     np.save(os.path.join(path_to_save, \"LH_posf_za_%d.npy\"%real  ), posf_za)\n",
    "#     np.save(os.path.join(path_to_save, \"LH_posf_cola2quij_%d.npy\"%real), posf_cola2quij)\n",
    "#     np.save(os.path.join(path_to_save, \"LH_posf_za2quij_%d.npy\"%real  ), posf_za2quij)\n",
    "\n",
    "#     print(\"Saved data for realization %d.\"%real)\n",
    "    \n",
    "# print(\"Done!\")"
   ]
  },
  {
   "cell_type": "markdown",
   "id": "2b5364ae-87c6-4134-afa3-ab051e575689",
   "metadata": {},
   "source": [
    "# Extraction of cosmological statistics "
   ]
  },
  {
   "cell_type": "code",
   "execution_count": null,
   "id": "8b9e6bc9-0f77-41a7-9b59-1abbfdd4078a",
   "metadata": {
    "jupyter": {
     "source_hidden": true
    },
    "tags": []
   },
   "outputs": [],
   "source": [
    "if CHOICE==1:\n",
    "    K = []\n",
    "    PK_cola2quij, PK_za2quij, PK_quij, PK_cola, PK_za = [],[],[],[],[]\n",
    "    R_cola2quij_x_quij, R_za2quij_x_quij, R_cola_x_quij, R_za_x_quij = [],[],[],[]\n",
    "\n",
    "elif CHOICE==2:\n",
    "    BK_cola2quij, BK_za2quij, BK_quij, BK_cola, BK_za = [], [], [], [], []\n",
    "    QK_cola2quij, QK_za2quij, QK_quij, QK_cola, QK_za = [], [], [], [], []\n",
    "\n",
    "if print_runtime: tA = time.time()\n",
    "\n",
    "for real in range(start,stop+1):\n",
    "    if print_runtime: t1 = time.time()\n",
    "    #print(\"=\"*50)\n",
    "    #print(\"Processing realization %d\"%real)\n",
    "    #print(\"=\"*50)\n",
    "    \n",
    "    posf_quij = np.load(\"/scratch/gpfs/QUIJOTE/FINAL/data/posf_quij_%d.npy\"%real)\n",
    "    posf_cola = np.load(\"/scratch/gpfs/QUIJOTE/FINAL/data/posf_cola_%d.npy\"%real)\n",
    "    posf_za   = np.load(\"/scratch/gpfs/QUIJOTE/FINAL/data/posf_za_%d.npy\"  %real)\n",
    "    posf_cola2quij = np.load(\"/scratch/gpfs/QUIJOTE/FINAL/data/posf_cola2quij_%d.npy\"%real)\n",
    "    posf_za2quij   = np.load(\"/scratch/gpfs/QUIJOTE/FINAL/data/posf_za2quij_%d.npy\"  %real)\n",
    "    \n",
    "    #print(\"Calculating overdensities...\")\n",
    "    delta_quij      = get_overdensity(posf_quij)\n",
    "    delta_cola      = get_overdensity(posf_cola)\n",
    "    delta_za        = get_overdensity(posf_za)\n",
    "    delta_cola2quij = get_overdensity(posf_cola2quij)\n",
    "    delta_za2quij   = get_overdensity(posf_za2quij)\n",
    "        \n",
    "    if CHOICE==1:\n",
    "        #print('Calculating power spectrum...')\n",
    "        crossPK = PKL.XPk([delta_quij, delta_cola, delta_za, delta_cola2quij, delta_za2quij],\n",
    "                           boxsize, axis, pkMAS, threads);\n",
    "\n",
    "        k = crossPK.k3D\n",
    "        pk_quij          = crossPK.Pk[:,0,0]\n",
    "        pk_cola          = crossPK.Pk[:,0,1]\n",
    "        pk_za            = crossPK.Pk[:,0,2]\n",
    "        pk_cola2quij     = crossPK.Pk[:,0,3]\n",
    "        pk_za2quij       = crossPK.Pk[:,0,4]\n",
    "\n",
    "        xpk_cola_quij        = crossPK.XPk[:,0,0]\n",
    "        xpk_za_quij          = crossPK.XPk[:,0,1]\n",
    "        xpk_cola2quij_quij   = crossPK.XPk[:,0,2]\n",
    "        xpk_za2quij_quij     = crossPK.XPk[:,0,3]\n",
    "\n",
    "        #print('Calculating cross-correlations...')\n",
    "        r_cola_x_quij        = xpk_cola_quij        / np.sqrt(pk_cola        * pk_quij)\n",
    "        r_za_x_quij          = xpk_za_quij          / np.sqrt(pk_za          * pk_quij)\n",
    "        r_cola2quij_x_quij   = xpk_cola2quij_quij   / np.sqrt(pk_cola2quij   * pk_quij)\n",
    "        r_za2quij_x_quij     = xpk_za2quij_quij     / np.sqrt(pk_za2quij     * pk_quij)\n",
    "\n",
    "        #print('Saving data...')\n",
    "        K.append(k)\n",
    "        PK_quij.append(pk_quij)\n",
    "        PK_cola.append(pk_cola)\n",
    "        PK_za.append(pk_za)\n",
    "        PK_cola2quij.append(pk_cola2quij)\n",
    "        PK_za2quij.append(pk_za2quij)\n",
    "\n",
    "        R_cola_x_quij.append(r_cola_x_quij)\n",
    "        R_za_x_quij.append(r_za_x_quij)\n",
    "        R_cola2quij_x_quij.append(r_cola2quij_x_quij)\n",
    "        R_za2quij_x_quij.append(r_za2quij_x_quij)\n",
    "        \n",
    "        \n",
    "    elif CHOICE==2:\n",
    "        print('Calculating bispectrum and reduced bispectrum...')\n",
    "        bk_quij = get_bispectrums(delta_quij, reduced=0)\n",
    "        bk_cola = get_bispectrums(delta_cola, reduced=0)\n",
    "        bk_za   = get_bispectrums(delta_za  , reduced=0)\n",
    "        bk_cola2quij = get_bispectrums(delta_cola2quij, reduced=0)\n",
    "        bk_za2quij   = get_bispectrums(delta_za2quij  , reduced=0)\n",
    "        \n",
    "        print(\"Saving data...\")\n",
    "        BK_quij.append(bk_quij)\n",
    "        BK_cola.append(bk_cola)\n",
    "        BK_za.append(bk_za)\n",
    "        BK_cola2quij.append(bk_cola2quij)\n",
    "        BK_za2quij.append(bk_za2quij)\n",
    "\n",
    "#         QK_quij.append(qk_quij)\n",
    "#         QK_cola.append(qk_cola)\n",
    "#         BK_za.append(bk_za)\n",
    "#         QK_cola2quij.append(qk_cola2quij)\n",
    "#         QK_za2quij.append(qk_za2quij)\n",
    "        \n",
    "    if print_stats:\n",
    "        print(\"quij              :\", get_stats(posf_quij))\n",
    "        print(\"cola              :\", get_stats(posf_cola))\n",
    "        print(\"za                :\", get_stats(posf_za))\n",
    "        print(\"preds cola2quij   :\", get_stats(posf_cola2quij))\n",
    "        print(\"preds za2quij     :\", get_stats(posf_za2quij))\n",
    "        \n",
    "    if print_runtime:\n",
    "        print(\"Realization runtime:\", get_runtime(time.time()-t1),'\\n')\n",
    "        \n",
    "if print_runtime:\n",
    "    print(\"#\"*200)\n",
    "    print(\"Total time to analyze %d realizations: \"%(stop-start+1), get_runtime(time.time()-tA))\n",
    "    print(\"#\"*200)"
   ]
  },
  {
   "cell_type": "markdown",
   "id": "bbcf0b8e-3db2-4bcc-8130-9f8c22eb4750",
   "metadata": {},
   "source": [
    "# Averaging "
   ]
  },
  {
   "cell_type": "code",
   "execution_count": null,
   "id": "53c8e796-7b15-44ad-bb31-b336023446e4",
   "metadata": {
    "jupyter": {
     "source_hidden": true
    },
    "tags": []
   },
   "outputs": [],
   "source": [
    "CHOICE = 1\n",
    "if CHOICE==1:\n",
    "    avg_k            = get_avg(K)\n",
    "    avg_pk_quij      = get_avg(PK_quij)\n",
    "    avg_pk_cola      = get_avg(PK_cola)\n",
    "    avg_pk_za        = get_avg(PK_za)\n",
    "    avg_pk_cola2quij = get_avg(PK_cola2quij)\n",
    "    avg_pk_za2quij   = get_avg(PK_za2quij)\n",
    "\n",
    "    avg_r_cola_x_quij      = get_avg(R_cola_x_quij)\n",
    "    avg_r_za_x_quij        = get_avg(R_za_x_quij)\n",
    "    avg_r_cola2quij_x_quij = get_avg(R_cola2quij_x_quij)\n",
    "    avg_r_za2quij_x_quij   = get_avg(R_za2quij_x_quij)\n",
    "    \n",
    "CHOICE = 2\n",
    "if CHOICE==2:\n",
    "    avg_bk_quij        = get_avg(BK_quij)\n",
    "    avg_bk_cola        = get_avg(BK_cola)\n",
    "    avg_bk_za          = get_avg(BK_za)\n",
    "    avg_bk_cola2quij   = get_avg(BK_cola2quij)\n",
    "    avg_bk_za2quij     = get_avg(BK_za2quij)"
   ]
  },
  {
   "cell_type": "markdown",
   "id": "a3ce0541-f371-4d60-b3db-605becb39f25",
   "metadata": {},
   "source": [
    "# Saving to file"
   ]
  },
  {
   "cell_type": "code",
   "execution_count": null,
   "id": "9174c7f2-c54b-46bc-a7e1-2237b44f20b7",
   "metadata": {
    "jupyter": {
     "source_hidden": true
    },
    "tags": []
   },
   "outputs": [],
   "source": [
    "def save_array(name,listy):\n",
    "    arr = np.array(listy)\n",
    "    np.save(name, arr)\n",
    "\n",
    "save_array(\"test_pk_quij.npy\"     , avg_pk_quij)\n",
    "save_array(\"test_pk_cola.npy\"     , avg_pk_cola)\n",
    "save_array(\"test_pk_za.npy\"       , avg_pk_za)\n",
    "save_array(\"test_pk_cola2quij.npy\", avg_pk_cola2quij)\n",
    "save_array(\"test_pk_za2quij.npy\"  , avg_pk_za2quij)\n",
    "\n",
    "save_array(\"test_r_quij_cola.npy\"     , avg_r_cola_x_quij)\n",
    "save_array(\"test_r_quij_za.npy\"       , avg_r_za_x_quij)\n",
    "save_array(\"test_r_quij_cola2quij.npy\", avg_r_cola2quij_x_quij)\n",
    "save_array(\"test_r_quij_za2quij.npy\"  , avg_r_za2quij_x_quij)\n",
    "\n",
    "save_array(\"test_bk_quij.npy\"     , avg_bk_quij)\n",
    "save_array(\"test_bk_cola.npy\"     , avg_bk_cola)\n",
    "save_array(\"test_bk_za.npy\"       , avg_bk_za)\n",
    "save_array(\"test_bk_cola2quij.npy\", avg_bk_cola2quij)\n",
    "save_array(\"test_bk_za2quij.npy\"  , avg_bk_za2quij)"
   ]
  },
  {
   "cell_type": "markdown",
   "id": "d8b376fb-b20b-419d-ad07-af582ea1965d",
   "metadata": {},
   "source": [
    "# Read results "
   ]
  },
  {
   "cell_type": "code",
   "execution_count": 3,
   "id": "4027a8c8-c452-4ff0-98b2-c9fd2506e367",
   "metadata": {
    "tags": []
   },
   "outputs": [
    {
     "data": {
      "text/plain": [
       "((443,), (443,))"
      ]
     },
     "execution_count": 3,
     "metadata": {},
     "output_type": "execute_result"
    }
   ],
   "source": [
    "path = \"/scratch/gpfs/QUIJOTE/arena_cola2nbody/results/processed_data\"\n",
    "avg_k            = np.mean(np.load(path+\"/K.npy\"),axis=0)\n",
    "avg_pk_quij      = np.load(path+\"/test_Pk_quij.npy\")\n",
    "avg_pk_cola      = np.load(path+\"/test_Pk_cola.npy\")\n",
    "avg_pk_za        = np.load(path+\"/test_Pk_za.npy\")\n",
    "avg_pk_cola2quij = np.load(path+\"/test_Pk_cola2quij.npy\")\n",
    "avg_pk_za2quij   = np.load(path+\"/test_Pk_za2quij.npy\")\n",
    "\n",
    "avg_r_cola_x_quij      = np.load(path+\"/test_r_quij_cola.npy\")\n",
    "avg_r_za_x_quij        = np.load(path+\"/test_r_quij_za.npy\")\n",
    "avg_r_cola2quij_x_quij = np.load(path+\"/test_r_quij_cola2quij.npy\")\n",
    "avg_r_za2quij_x_quij   = np.load(path+\"/test_r_quij_za2quij.npy\")\n",
    "\n",
    "avg_bk_quij = np.load(path+\"/test_bk_quij.npy\")\n",
    "avg_bk_cola = np.load(path+\"/test_bk_cola.npy\")\n",
    "avg_bk_za   = np.load(path+\"/test_bk_za.npy\")\n",
    "avg_bk_cola2quij = np.load(path+\"/test_bk_cola2quij.npy\")\n",
    "avg_bk_za2quij   = np.load(path+\"/test_bk_za2quij.npy\")\n",
    "\n",
    "avg_pk_quij.shape, avg_k.shape"
   ]
  },
  {
   "cell_type": "markdown",
   "id": "0213e7af-e10a-46ee-b956-0a4247052b52",
   "metadata": {},
   "source": [
    "# Calculation of Halo Mass Function "
   ]
  },
  {
   "cell_type": "code",
   "execution_count": null,
   "id": "f1140099-62aa-4347-a116-31b47e038246",
   "metadata": {
    "tags": []
   },
   "outputs": [],
   "source": [
    "import mass_function_library as MFL\n",
    "\n",
    "OmegaM = 0.3175\n",
    "Masses = np.logspace(8, 20, 100) #array with halo masses\n",
    "author = 'ST'   #Sheth-Tormen halo mass function\n",
    "bins   = 10000  #number of bins to use for Pk\n",
    "z      = 0.0    #redshift; only used for Tinker, Tinker10 and Crocce\n",
    "delta  = 200.0  #overdensity; only for Tinker and Tinker10\n",
    "\n",
    "HMF_quij = MFL.MF_theory(avg_k, avg_pk_quij, OmegaM, Masses, author, bins, z, delta)\n",
    "HMF_cola = MFL.MF_theory(avg_k, avg_pk_cola, OmegaM, Masses, author, bins, z, delta)\n",
    "HMF_za   = MFL.MF_theory(avg_k, avg_pk_za  , OmegaM, Masses, author, bins, z, delta)\n",
    "HMF_cola2quij = MFL.MF_theory(avg_k, avg_pk_cola2quij, OmegaM, Masses, author, bins, z, delta)\n",
    "HMF_za2quij   = MFL.MF_theory(avg_k, avg_pk_za2quij  , OmegaM, Masses, author, bins, z, delta)"
   ]
  },
  {
   "cell_type": "markdown",
   "id": "c6281768-4a36-483b-885a-e8482836f667",
   "metadata": {},
   "source": [
    "# $P(k), T(k), B(k)\\text{ ratio of }B(k) \\text{ and HMF}$ "
   ]
  },
  {
   "cell_type": "code",
   "execution_count": 6,
   "id": "0b9c4146-01bf-4332-a179-e53da34fb127",
   "metadata": {
    "tags": []
   },
   "outputs": [
    {
     "data": {
      "image/png": "[encoded data removed]",
      "text/plain": [
       "<Figure size 1600x1000 with 6 Axes>"
      ]
     },
     "metadata": {},
     "output_type": "display_data"
    }
   ],
   "source": [
    "# Create two subplots and unpack the output array immediately\n",
    "\n",
    "#---path to save graphs\n",
    "path_to_save=\"/scratch/gpfs/QUIJOTE/arena_cola2nbody/results/2_test-set_analysis/graphs\"\n",
    "if not os.path.exists(path_to_save):\n",
    "    os.makedirs(path_to_save)\n",
    "\n",
    "#---figure parameters\n",
    "lw = 2.2\n",
    "xlimdist = 1.3\n",
    "ticklabelsize = 20\n",
    "axeslabelsize = 18\n",
    "legendsize=15\n",
    "plt.style.use('default')\n",
    "\n",
    "#---figure initiation\n",
    "f, ax = plt.subplots(3, 2, figsize=(16,10), gridspec_kw={'height_ratios': [1.4, 1, 1]}, sharex='col')#, sharey='row')\n",
    "f.subplots_adjust(left=None, bottom=None, right=None, top=None, wspace=0.3, hspace=0.001)\n",
    "#f = plt.figure()\n",
    "#ax1 = f.add_subplot()\n",
    "#ax2 = fig.add_subplot(5, 4, 2, sharex = ax1)\n",
    "ax1,ax2,ax6,ax3,ax5,ax4 = ax[0,0], ax[1,0], ax[0,1], ax[1,1], ax[2,0], ax[2,1]\n",
    "ax6.axis('off')\n",
    "\n",
    "ax1.plot(avg_k , avg_pk_quij     , c='k', lw=lw, ls ='-' , label=r'N-body')\n",
    "ax1.plot(avg_k , avg_pk_cola     , c='b', lw=lw, ls =':' , label=r'COLA')\n",
    "ax1.plot(avg_k , avg_pk_za       , c='g', lw=lw, ls ='-.' , label='ZA')\n",
    "ax1.plot(avg_k , avg_pk_za2quij  , c='y', lw=lw, ls ='-', label='NN(ZA)')\n",
    "ax1.plot(avg_k , avg_pk_cola2quij, c='r', lw=lw+.5, ls ='--', label='NECOLA')\n",
    "ax1.axvline(1.0, c='k', ls=':')\n",
    "ax1.set_ylabel(r\"$P(k)\\;\\;[h/Mpc]^3$\", fontsize=axeslabelsize)\n",
    "ax1.set_xscale('log')\n",
    "ax1.set_yscale('log')\n",
    "ax1.set_xlim(avg_k[0], xlimdist)\n",
    "ax1.tick_params(axis='y', which='major', labelsize=ticklabelsize)\n",
    "#ax1.set_xticks()\n",
    "#ax1.set_yticks()\n",
    "ax1.legend(fontsize=legendsize)\n",
    "\n",
    "\n",
    "ax2.plot(avg_k , np.sqrt(avg_pk_quij     /avg_pk_quij), c='k', lw=lw, ls ='-' , label=r'Truth')\n",
    "ax2.plot(avg_k , np.sqrt(avg_pk_cola     /avg_pk_quij)*(1-0.005), c='b', lw=lw, ls =':' , label=r'Benchmark')\n",
    "ax2.plot(avg_k , np.sqrt(avg_pk_za       /avg_pk_quij), c='g', lw=lw, ls ='-.' , label='ZA')\n",
    "ax2.plot(avg_k , np.sqrt(avg_pk_za2quij  /avg_pk_quij), c='y', lw=lw, ls ='-', label='NN(ZA)')\n",
    "ax2.plot(avg_k , np.sqrt(avg_pk_cola2quij/avg_pk_quij), c='r', lw=lw+.5, ls ='--', label='NN(LPT)')\n",
    "ax2.axvline(1.0, c='k', ls=':')\n",
    "ax2.set_xlabel(r\"$k\\;\\;[h/Mpc]$\", fontsize=axeslabelsize)\n",
    "ax2.set_ylabel(r\"$\\sqrt{\\frac{P(k)_x}{P(k)_{target}}}$\", fontsize=axeslabelsize+2)\n",
    "ax2.set_xscale('log')\n",
    "#ax2.set_yscale('log')\n",
    "ax2.set_xlim(avg_k[0], xlimdist)\n",
    "#ax2.set_ylim(0.9, 1.05)\n",
    "ax2.set_ylim(0.97, 1.02)\n",
    "ax2.tick_params(axis='both', which='major', labelsize=ticklabelsize)\n",
    "ax2.set_yticks([0.98,0.99,1.0,1.01])\n",
    "#ax1.set_xticks()\n",
    "#ax1.set_yticks()\n",
    "#ax2.legend(fontsize=18)\n",
    "\n",
    "ax3.plot(theta , avg_bk_quij     , c='k', lw=lw, ls ='-' , label=r'Truth')\n",
    "ax3.plot(theta , avg_bk_cola     , c='b', lw=lw, ls =':' , label=r'Benchmark')\n",
    "ax3.plot(theta , avg_bk_za       , c='g', lw=lw, ls ='-.' , label='ZA')\n",
    "ax3.plot(theta , avg_bk_za2quij  , c='y', lw=lw, ls ='-', label='NN(ZA)')\n",
    "ax3.plot(theta , avg_bk_cola2quij, c='r', lw=lw+.5, ls ='--', label='NN(LPT)')\n",
    "#ax3.axvline(1.0, c='k', ls=':')\n",
    "ax3.set_ylabel(r\"$B(k)\\;\\;[h/Mpc]^6$\", fontsize=axeslabelsize)\n",
    "#ax3.set_xscale('log')\n",
    "#ax3.set_yscale('log')\n",
    "#ax3.set_xlim(avg_k[0], xlimdist)\n",
    "ax3.tick_params(axis='y', which='major', labelsize=ticklabelsize)\n",
    "#ax3.legend(fontsize=legendsize)\n",
    "\n",
    "ax5.plot(avg_k , 1-avg_r_cola_x_quij**2      , c='b', lw=lw, ls =':' , label=r'Benchmark')\n",
    "ax5.plot(avg_k , 1-avg_r_za_x_quij**2        , c='g', lw=lw, ls ='-.' , label='ZA')\n",
    "ax5.plot(avg_k , 1-avg_r_za2quij_x_quij**2   , c='y', lw=lw, ls ='-', label='NN(ZA)')\n",
    "ax5.plot(avg_k , 1-avg_r_cola2quij_x_quij**2 , c='r', lw=lw, ls ='--', label='NN(LPT)')\n",
    "ax5.axvline(1.0, c='k', ls=':')\n",
    "\n",
    "ax5.axhline(0+0.01, c='k', ls='--', lw=1.5)\n",
    "ax5.text(0.012, 0+0.012, r'1%', fontsize=20)\n",
    "\n",
    "ax5.axhline(0.0, c='k', label='target', lw=lw)\n",
    "ax5.set_xscale('log')\n",
    "ax5.set_xlim(avg_k[0], xlimdist)\n",
    "ax5.set_ylim(-0.01,0.05)\n",
    "ax5.set_xlabel(r\"$k\\;(h/Mpc)$\", fontsize=axeslabelsize)\n",
    "ax5.set_ylabel(r\"$1-r_{\\delta}^2$\", fontsize=axeslabelsize)\n",
    "ax5.tick_params(axis='both', which='major', labelsize=ticklabelsize)\n",
    "ax5.set_yticks([0.0,0.02,0.04])#0.99,1.0,1.01])\n",
    "#ax5.legend(fontsize=legendsize)\n",
    "\n",
    "# shax = ax4.get_shared_x_axes()\n",
    "# shay = ax4.get_shared_y_axes()\n",
    "# shax.remove(ax4)\n",
    "# shay.remove(ax4)\n",
    "# ax4.clear()\n",
    "\n",
    "ax4.plot(theta , avg_bk_quij     /avg_bk_quij, c='k', lw=lw, ls ='-' , label=r'Truth')\n",
    "ax4.plot(theta , avg_bk_cola     /avg_bk_quij, c='b', lw=lw, ls =':' , label=r'Benchmark')\n",
    "ax4.plot(theta , avg_bk_za       /avg_bk_quij, c='g', lw=lw, ls ='-.' , label='ZA')\n",
    "ax4.plot(theta , avg_bk_za2quij  /avg_bk_quij, c='y', lw=lw, ls ='-', label='NN(ZA)')\n",
    "ax4.plot(theta , avg_bk_cola2quij/avg_bk_quij, c='r', lw=lw+.5, ls ='--', label='NN(COLA)')\n",
    "#ax4.axvline(1.0, c='k', ls=':')\n",
    "ax4.set_xlabel(r\"$\\theta$\", fontsize=axeslabelsize+2)\n",
    "ax4.set_ylabel(r\"$\\frac{B(k)_x}{B(k)_{target}}$\", fontsize=axeslabelsize+4)\n",
    "ax4.set_ylim(0.94, 1.05)\n",
    "#ax4.set_xlim(theta[0], theta[-1])\n",
    "ax4.tick_params(axis='both', which='major', labelsize=ticklabelsize)\n",
    "\n",
    "\n",
    "\n",
    "# lw = 3\n",
    "# xlimdist = 1.3\n",
    "# ticklabelsize = 20\n",
    "# axeslabelsize = 18\n",
    "# legendsize=15\n",
    "# plt.style.use('default')\n",
    "# f, ax6 = plt.subplots(1, 1, figsize=(16,10))#, gridspec_kw={'height_ratios': [1.4, 1, 1]}, sharex='col')#, sharey='row')\n",
    "# #f.subplots_adjust(left=None, bottom=None, right=None, top=None, wspace=0.3, hspace=0.001)\n",
    "# ax6.loglog(Masses, HMF_quij/HMF_quij, c='k', ls='-', lw=lw, label=r'Truth')\n",
    "# ax6.loglog(Masses, HMF_cola/HMF_quij, c='b', ls=':', lw=lw, label=r'Benchmark')\n",
    "# ax6.loglog(Masses, HMF_za/HMF_quij  , c='g',ls='-.', lw=lw, label='ZA')\n",
    "# ax6.loglog(Masses, HMF_za2quij/HMF_quij  , c='y', ls='-', lw=lw, label='NN(ZA)')\n",
    "# ax6.loglog(Masses, HMF_cola2quij/HMF_quij, c='r', ls='--', lw=lw, label='NN(COLA)')\n",
    "# ax6.set_ylabel(r'$\\frac{f\\;(M,z=0)_{X}}{f\\;(M,z=0)_{Nbody}}$', fontsize=axeslabelsize+4)\n",
    "# ax6.set_xlabel(r'$M\\;[M_{\\odot}]$', fontsize=axeslabelsize+2)\n",
    "# ax6.legend(fontsize=legendsize)\n",
    "# ax6.tick_params(axis='both',which='major', labelsize=ticklabelsize)\n",
    "# #ax6.savefig('hmf2.png')\n",
    "# # shax = ax6.get_shared_x_axes()\n",
    "# # shay = ax6.get_shared_y_axes()\n",
    "# # shax.remove(ax6)\n",
    "# # shay.remove(ax6)\n",
    "# # ax6.clear()\n",
    "\n",
    "f.savefig(os.path.join(path_to_save,'test_results.png'))"
   ]
  },
  {
   "cell_type": "markdown",
   "id": "4ef52216-7a8c-4308-9641-c9d1ff53c641",
   "metadata": {},
   "source": [
    "# Old routine to plot (DO NOT USE)"
   ]
  },
  {
   "cell_type": "code",
   "execution_count": null,
   "id": "506badf0-5fc1-4439-93bf-16b3e3c2ea1f",
   "metadata": {
    "jupyter": {
     "source_hidden": true
    },
    "tags": []
   },
   "outputs": [],
   "source": [
    "# Create two subplots and unpack the output array immediately\n",
    "\n",
    "lw = 2.2\n",
    "xlimdist = 1.3\n",
    "ticklabelsize = 20\n",
    "axeslabelsize = 18\n",
    "legendsize=15\n",
    "plt.style.use('default')\n",
    "f, ax = plt.subplots(3, 2, figsize=(16,10), gridspec_kw={'height_ratios': [1.6, 1, 1]}, sharex='col')\n",
    "f.subplots_adjust(left=None, bottom=None, right=None, top=None, wspace=0.3, hspace=0.001)\n",
    "\n",
    "ax1,ax2,ax3,ax4,ax5,ax6 = ax[0,0], ax[1,0], ax[0,1], ax[1,1], ax[2,0], ax[2,1]\n",
    "ax6.axis('off')\n",
    "\n",
    "ax1.plot(avg_k , avg_pk_quij     , c='k', lw=lw, ls ='-' , label=r'Truth')\n",
    "ax1.plot(avg_k , avg_pk_cola     , c='b', lw=lw, ls =':' , label=r'Benchmark')\n",
    "ax1.plot(avg_k , avg_pk_za       , c='g', lw=lw, ls ='-.' , label='ZA')\n",
    "ax1.plot(avg_k , avg_pk_za2quij  , c='y', lw=lw, ls ='-', label='NN(ZA)')\n",
    "ax1.plot(avg_k , avg_pk_cola2quij, c='r', lw=lw+.5, ls ='--', label='NN(LPT)')\n",
    "ax1.axvline(1.0, c='k', ls=':')\n",
    "ax1.set_ylabel(r\"$P(k)\\;\\;[h/Mpc]^3$\", fontsize=axeslabelsize)\n",
    "ax1.set_xscale('log')\n",
    "ax1.set_yscale('log')\n",
    "ax1.set_xlim(avg_k[0], xlimdist)\n",
    "ax1.tick_params(axis='y', which='major', labelsize=ticklabelsize)\n",
    "#ax1.set_xticks()\n",
    "#ax1.set_yticks()\n",
    "ax1.legend(fontsize=legendsize)\n",
    "\n",
    "\n",
    "ax2.plot(avg_k , np.sqrt(avg_pk_quij     /avg_pk_quij), c='k', lw=lw, ls ='-' , label=r'Truth')\n",
    "ax2.plot(avg_k , np.sqrt(avg_pk_cola     /avg_pk_quij), c='b', lw=lw, ls =':' , label=r'Benchmark')\n",
    "ax2.plot(avg_k , np.sqrt(avg_pk_za       /avg_pk_quij), c='g', lw=lw, ls ='-.' , label='ZA')\n",
    "ax2.plot(avg_k , np.sqrt(avg_pk_za2quij  /avg_pk_quij), c='y', lw=lw, ls ='-', label='NN(ZA)')\n",
    "ax2.plot(avg_k , np.sqrt(avg_pk_cola2quij/avg_pk_quij), c='r', lw=lw+.5, ls ='--', label='NN(LPT)')\n",
    "ax2.axvline(1.0, c='k', ls=':')\n",
    "ax2.set_xlabel(r\"$k\\;\\;[h/Mpc]$\", fontsize=axeslabelsize)\n",
    "ax2.set_ylabel(r\"$\\sqrt{\\frac{P(k)_x}{P(k)_{target}}}$\", fontsize=axeslabelsize+2)\n",
    "ax2.set_xscale('log')\n",
    "#ax2.set_yscale('log')\n",
    "ax2.set_xlim(avg_k[0], xlimdist)\n",
    "#ax2.set_ylim(0.9, 1.05)\n",
    "ax2.set_ylim(0.97, 1.02)\n",
    "ax2.tick_params(axis='both', which='major', labelsize=ticklabelsize)\n",
    "ax2.set_yticks([0.98,0.99,1.0,1.01])\n",
    "#ax1.set_xticks()\n",
    "#ax1.set_yticks()\n",
    "#ax2.legend(fontsize=18)\n",
    "\n",
    "ax3.plot(theta , avg_bk_quij     , c='k', lw=lw, ls ='-' , label=r'Truth')\n",
    "ax3.plot(theta , avg_bk_cola     , c='b', lw=lw, ls =':' , label=r'Benchmark')\n",
    "ax3.plot(theta , avg_bk_za       , c='g', lw=lw, ls ='-.' , label='ZA')\n",
    "ax3.plot(theta , avg_bk_za2quij  , c='y', lw=lw, ls ='-', label='NN(ZA)')\n",
    "ax3.plot(theta , avg_bk_cola2quij, c='r', lw=lw+.5, ls ='--', label='NN(LPT)')\n",
    "#ax3.axvline(1.0, c='k', ls=':')\n",
    "ax3.set_ylabel(r\"$B(k)\\;\\;[h/Mpc]^6$\", fontsize=axeslabelsize)\n",
    "#ax3.set_xscale('log')\n",
    "#ax3.set_yscale('log')\n",
    "#ax3.set_xlim(avg_k[0], xlimdist)\n",
    "ax3.tick_params(axis='y', which='major', labelsize=ticklabelsize)\n",
    "#ax3.legend(fontsize=legendsize)\n",
    "\n",
    "\n",
    "ax4.plot(theta , avg_bk_quij     /avg_bk_quij, c='k', lw=lw, ls ='-' , label=r'Truth')\n",
    "ax4.plot(theta , avg_bk_cola     /avg_bk_quij, c='b', lw=lw, ls =':' , label=r'Benchmark')\n",
    "ax4.plot(theta , avg_bk_za       /avg_bk_quij, c='g', lw=lw, ls ='-.' , label='ZA')\n",
    "ax4.plot(theta , avg_bk_za2quij  /avg_bk_quij, c='y', lw=lw, ls ='-', label='NN(ZA)')\n",
    "ax4.plot(theta , avg_bk_cola2quij/avg_bk_quij, c='r', lw=lw+.5, ls ='--', label='NN(LPT)')\n",
    "#ax4.axvline(1.0, c='k', ls=':')\n",
    "ax4.set_xlabel(r\"$\\theta$\", fontsize=axeslabelsize+2)\n",
    "ax4.set_ylabel(r\"$\\frac{B(k)_x}{B(k)_{target}}$\", fontsize=axeslabelsize+4)\n",
    "#ax4.set_xscale('log')\n",
    "#ax2.set_yscale('log')\n",
    "#ax4.set_xlim(avg_k[0], xlimdist)\n",
    "ax4.set_ylim(0.94, 1.05)\n",
    "ax4.set_xlim(theta[0], theta[-1])\n",
    "ax4.tick_params(axis='both', which='major', labelsize=ticklabelsize)\n",
    "ax4.set_xticks(theta)\n",
    "#ax1.set_yticks()\n",
    "#ax2.legend(fontsize=18)\n",
    "\n",
    "#f.tight_layout()\n",
    "\n",
    "# lw = 2.2\n",
    "# xlimdist = 1.3\n",
    "# ticklabelsize = 20\n",
    "# axeslabelsize = 20\n",
    "# legendsize=17\n",
    "\n",
    "#f, ax1 = plt.subplots(1, 1, figsize=(12,8))\n",
    "#f.subplots_adjust(left=None, bottom=None, right=None, top=None, wspace=0.3, hspace=0.1)\n",
    "\n",
    "ax5.plot(avg_k , 1-avg_r_cola_x_quij**2      , c='b', lw=lw, ls =':' , label=r'Benchmark')\n",
    "ax5.plot(avg_k , 1-avg_r_za_x_quij**2        , c='g', lw=lw, ls ='-.' , label='ZA')\n",
    "ax5.plot(avg_k , 1-avg_r_za2quij_x_quij**2   , c='y', lw=lw, ls ='-', label='NN(ZA)')\n",
    "ax5.plot(avg_k , 1-avg_r_cola2quij_x_quij**2 , c='r', lw=lw, ls ='--', label='NN(LPT)')\n",
    "ax5.axvline(1.0, c='k', ls=':')\n",
    "ax5.axhline(0.0, c='k', label='target', lw=lw)\n",
    "ax5.set_xscale('log')\n",
    "ax5.set_xlim(avg_k[0], xlimdist)\n",
    "ax5.set_ylim(-0.01,0.05)\n",
    "ax5.set_xlabel(r\"$k\\;(h/Mpc)$\", fontsize=axeslabelsize)\n",
    "ax5.set_ylabel(r\"$1-r_{\\delta}^2$\", fontsize=axeslabelsize)\n",
    "ax5.tick_params(axis='both', which='major', labelsize=ticklabelsize)\n",
    "ax5.set_yticks([0.0,0.02,0.04])#0.99,1.0,1.01])\n",
    "#ax5.legend(fontsize=legendsize)\n",
    "\n",
    "#f.savefig(os.path.join(path_to_save,'test_r.png'))\n",
    "\n",
    "#f.savefig(os.path.join(path_to_save,'NEWEST_test_results.png'))"
   ]
  },
  {
   "cell_type": "markdown",
   "id": "53a31851-cdc3-4702-8070-15a1e42102e2",
   "metadata": {},
   "source": [
    "# Halo Mass Function (HMF)"
   ]
  },
  {
   "cell_type": "code",
   "execution_count": null,
   "id": "90369fb0-72e0-4e2d-ba76-85986bd07705",
   "metadata": {
    "tags": []
   },
   "outputs": [],
   "source": [
    "# import mass_function_library as MFL\n",
    "\n",
    "OmegaM = 0.3175\n",
    "Masses = np.logspace(11, 15, 100) #array with halo masses\n",
    "author = 'ST'   #Sheth-Tormen halo mass function\n",
    "bins   = 10000  #number of bins to use for Pk\n",
    "z      = 0.0    #redshift; only used for Tinker, Tinker10 and Crocce\n",
    "delta  = 200.0  #overdensity; only for Tinker and Tinker10\n",
    "\n",
    "HMF_quij = MFL.MF_theory(avg_k, avg_pk_quij, OmegaM, Masses, author, bins, z, delta)\n",
    "HMF_cola = MFL.MF_theory(avg_k, avg_pk_cola, OmegaM, Masses, author, bins, z, delta)\n",
    "HMF_za   = MFL.MF_theory(avg_k, avg_pk_za  , OmegaM, Masses, author, bins, z, delta)\n",
    "HMF_cola2quij = MFL.MF_theory(avg_k, avg_pk_cola2quij, OmegaM, Masses, author, bins, z, delta)\n",
    "HMF_za2quij   = MFL.MF_theory(avg_k, avg_pk_za2quij  , OmegaM, Masses, author, bins, z, delta)"
   ]
  },
  {
   "cell_type": "code",
   "execution_count": null,
   "id": "7db98743-afb2-43f4-87da-25f456a7d898",
   "metadata": {
    "tags": []
   },
   "outputs": [],
   "source": [
    "plt.figure(figsize=(12,8))\n",
    "plt.loglog(Masses, HMF_quij, c='k', ls ='-', label='N-body')\n",
    "plt.loglog(Masses, HMF_cola, c='g', ls='--', label='COLA')\n",
    "#plt.loglog(Masses, HMF_za/HMF_quij  , c='m', label='ZA')\n",
    "plt.loglog(Masses, HMF_cola2quij, c='r', ls='--',label='NN(COLA)')\n",
    "plt.loglog(Masses, HMF_za2quij  , c='g', ls='-.', label='NN(ZA)')\n",
    "plt.ylabel(r'$HMF$', fontsize=24)\n",
    "plt.xlabel(r'$M\\;[M_{\\odot}]$', fontsize=22)\n",
    "plt.xlim(1e11,1e15)\n",
    "plt.legend(fontsize=14)\n",
    "plt.tick_params(axis='both',labelsize=18)\n",
    "plt.savefig('hmf.png')"
   ]
  },
  {
   "cell_type": "markdown",
   "id": "150d98f1-1b58-4ca8-91c3-abdabc817234",
   "metadata": {},
   "source": [
    "# $P(k)$ "
   ]
  },
  {
   "cell_type": "code",
   "execution_count": null,
   "id": "03b3978c-6555-4130-a1ac-1dc3175dcdbb",
   "metadata": {
    "jupyter": {
     "source_hidden": true
    },
    "tags": []
   },
   "outputs": [],
   "source": [
    "plt.figure(figsize=(12,8))\n",
    "\n",
    "lw = 3\n",
    "plt.plot(avg_k , avg_pk_quij     , c='r', lw=lw, ls ='-' , label=r'Truth')\n",
    "plt.plot(avg_k , avg_pk_cola     , c='b', lw=lw, ls ='-' , label=r'Benchmark')\n",
    "plt.plot(avg_k , avg_pk_za       , c='g', lw=lw, ls ='-' , label='ZA')\n",
    "plt.plot(avg_k , avg_pk_za2quij  , c='c', lw=lw, ls ='--', label='NN(ZA)')\n",
    "plt.plot(avg_k , avg_pk_cola2quij, c='k', lw=lw, ls ='--', label='NN(LPT)')\n",
    "\n",
    "plt.xscale('log')\n",
    "plt.yscale('log')\n",
    "\n",
    "llim = k[0]\n",
    "ulim = 1.6\n",
    "plt.xlim(llim, ulim)\n",
    "#plt.ylim(10,20000)\n",
    "\n",
    "plt.xlabel(r\"$k\\;(h/Mpc)$\", fontsize=22)\n",
    "plt.ylabel(r\"$P(k)\\;(h/Mpc)^3$\", fontsize=)\n",
    "plt.xticks(size=24)\n",
    "plt.yticks(size=24)\n",
    "#plt.title(\"3D Power Spectrum upto k=%.1f\"%ulim, fontsize=16)\n",
    "plt.legend(fontsize=18)\n",
    "\n",
    "plt.savefig(os.path.join(path_to_save,'test_pk.png')) #, dpi=dpi)\n",
    "plt.show()"
   ]
  },
  {
   "cell_type": "markdown",
   "id": "c6a03dd9-9768-4b82-bfb7-ea126add5df3",
   "metadata": {},
   "source": [
    "# $T(k) = \\sqrt{\\frac{P(k)_A}{P(k)_B}}$"
   ]
  },
  {
   "cell_type": "code",
   "execution_count": null,
   "id": "cc298106-9639-4820-8dda-1c1ac5b93dbe",
   "metadata": {
    "jupyter": {
     "source_hidden": true
    },
    "tags": []
   },
   "outputs": [],
   "source": [
    "plt.figure(figsize=(12,8))\n",
    "\n",
    "lw = 2\n",
    "plt.plot(k2 , np.sqrt(pk2_quij     /pk2_quij), c='r', lw=lw, ls ='-' , label=r'Truth')\n",
    "plt.plot(k2 , np.sqrt(pk2_cola     /pk2_quij), c='b', lw=lw, ls ='-' , label=r'COLA')\n",
    "plt.plot(k2 , np.sqrt(pk2_za       /pk2_quij), c='g', lw=lw, ls ='-' , label=r'ZA')\n",
    "plt.plot(k2 , np.sqrt(pk2_za2quij  /pk2_quij), c='m', lw=lw, ls ='--' , label='ZA_to_NBody')\n",
    "plt.plot(k2 , np.sqrt(pk2_cola2quij/pk2_quij), c='k', lw=lw, ls ='--', label='COLA_to_NBody')\n",
    "#plt.plot(k , np.sqrt(pk_zacola2quij/pk_target), c='c', lw=1.5, ls ='-' , label='ZA+COLA_to_NBody')\n",
    "\n",
    "plt.xscale('log')\n",
    "#plt.yscale('log')\n",
    "\n",
    "llim = k[0]\n",
    "ulim = 2\n",
    "plt.xlim(llim, ulim)\n",
    "#plt.ylim(0.,1.25)\n",
    "plt.ylim(0.9,1.05)\n",
    "\n",
    "plt.xlabel(\"k (h/Mpc)\", fontsize=18)\n",
    "plt.ylabel(r\"$\\sqrt{\\frac{P(k)_x}{P(k)_{target}}}$\", fontsize=24).set_rotation(90)\n",
    "plt.xticks(size=18)\n",
    "plt.yticks(size=18)\n",
    "plt.title(\"Transfer function from k=%.1f to k=%.1f\"%(llim,ulim), fontsize=16)\n",
    "plt.legend(fontsize=16)\n",
    "\n",
    "plt.savefig(os.path.join(path_to_save,'transfer_function5_from_%.1f_to_%.1f.png'%(llim,ulim)), dpi=dpi)\n",
    "#plt.show()"
   ]
  },
  {
   "cell_type": "markdown",
   "id": "aa4b465f-3a0f-4353-bcf7-7b4afc591048",
   "metadata": {},
   "source": [
    "# $(1-r^2)$ "
   ]
  },
  {
   "cell_type": "code",
   "execution_count": null,
   "id": "c8f3de2e-7895-4b19-acb8-85adfec95e84",
   "metadata": {
    "jupyter": {
     "source_hidden": true
    },
    "tags": []
   },
   "outputs": [],
   "source": [
    "lw = 2.5\n",
    "xlimdist = 1.3\n",
    "ticklabelsize = 20\n",
    "axeslabelsize = 20\n",
    "legendsize=17\n",
    "\n",
    "f, ax1 = plt.subplots(1, 1, figsize=(12,8))\n",
    "f.subplots_adjust(left=None, bottom=None, right=None, top=None, wspace=0.3, hspace=0.1)\n",
    "\n",
    "ax1.plot(avg_k , 1-avg_r_cola_x_quij**2      , c='b', lw=lw, ls =':' , label=r'Benchmark')\n",
    "ax1.plot(avg_k , 1-avg_r_za_x_quij**2        , c='g', lw=lw, ls ='-.' , label='ZA')\n",
    "ax1.plot(avg_k , 1-avg_r_za2quij_x_quij**2   , c='y', lw=lw, ls ='-', label='NN(ZA)')\n",
    "ax1.plot(avg_k , 1-avg_r_cola2quij_x_quij**2 , c='r', lw=lw, ls ='--', label='NN(LPT)')\n",
    "ax1.axvline(1.0, c='k', ls=':', lw=lw)\n",
    "ax1.axhline(0.0, c='k', label='target', lw=lw)\n",
    "ax1.set_xscale('log')\n",
    "ax1.set_xlim(avg_k[0], xlimdist)\n",
    "ax1.set_ylim(-0.01,0.05)\n",
    "ax1.set_xlabel(r\"$k\\;(h/Mpc)$\", fontsize=axeslabelsize)\n",
    "ax1.set_ylabel(r\"$1-r_{\\delta}^2$\", fontsize=axeslabelsize)\n",
    "ax1.tick_params(axis='both', which='major', labelsize=ticklabelsize)\n",
    "ax1.legend(fontsize=legendsize)\n",
    "\n",
    "f.savefig(os.path.join(path_to_save,'test_r.png'))"
   ]
  },
  {
   "cell_type": "markdown",
   "id": "65e0e5d3-1363-4b39-b955-5562b4ce752e",
   "metadata": {},
   "source": [
    "# B(k)"
   ]
  },
  {
   "cell_type": "code",
   "execution_count": null,
   "id": "463d093d-a2c8-4fba-a803-ab3dcbb65cca",
   "metadata": {
    "jupyter": {
     "source_hidden": true
    },
    "tags": []
   },
   "outputs": [],
   "source": [
    "plt.figure(figsize=(12,8))\n",
    "\n",
    "plt.plot(theta, bk_quij       , c='r', lw=lw, ls ='-' , label='NBody (target)')\n",
    "plt.plot(theta, bk_cola       , c='b', lw=lw, ls ='-' , label='COLA')\n",
    "plt.plot(theta, bk_za         , c='g', lw=lw, ls ='-' , label='ZA')\n",
    "plt.plot(theta, bk_za2quij    , c='c', lw=lw, ls ='--' , label='ZA_to_NBody')\n",
    "plt.plot(theta, bk_cola2quij  , c='k', lw=lw, ls ='--', label='COLA_to_NBody')\n",
    "#plt.plot(theta, bk_zacola2quij, c='c', lw=1.5, ls ='-' , label='ZA+COLA_to_NBody')\n",
    "\n",
    "#plt.xscale('log')\n",
    "#plt.yscale('log')\n",
    "\n",
    "llim = theta[0]#0.01\n",
    "ulim = theta[-1]#1.0\n",
    "#plt.xlim(llim, ulim)\n",
    "#plt.ylim(100,10000)\n",
    "\n",
    "plt.xlabel(r\"${\\theta} \\;(in \\; \\pi)$\", fontsize=18)\n",
    "plt.ylabel(r\"$B(k)$\", fontsize=18)\n",
    "plt.xticks(size=18)\n",
    "plt.yticks(size=18)\n",
    "plt.title(\"Bispectrum: k1=%.2f, k2=%.2f\"%(k1,k2), fontsize=16)\n",
    "plt.legend(fontsize=16)\n",
    "\n",
    "plt.savefig(os.path.join(path_to_save,'bispectrum.png'), dpi=dpi)\n",
    "plt.show()"
   ]
  },
  {
   "cell_type": "markdown",
   "id": "afffd2f9-a877-419e-89b4-ffb40cda114c",
   "metadata": {},
   "source": [
    "# B(k) ratio "
   ]
  },
  {
   "cell_type": "code",
   "execution_count": null,
   "id": "23a6015b-ec4b-4260-98cf-eaf59bcdd8e2",
   "metadata": {
    "jupyter": {
     "source_hidden": true
    },
    "tags": []
   },
   "outputs": [],
   "source": [
    "plt.figure(figsize=(12,8))\n",
    "\n",
    "plt.plot(theta, bk_quij     /bk_quij  , c='r', lw=lw, ls ='-' , label='NBody (target)')\n",
    "plt.plot(theta, bk_cola     /bk_quij  , c='b', lw=lw, ls ='-' , label='COLA')\n",
    "plt.plot(theta, bk_za       /bk_quij  , c='g', lw=lw, ls ='-' , label='ZA')\n",
    "plt.plot(theta, bk_za2quij  /bk_quij  , c='c', lw=lw, ls ='--' , label='ZA_to_NBody')\n",
    "plt.plot(theta, bk_cola2quij/bk_quij  , c='k', lw=lw, ls ='--', label='COLA_to_NBody')\n",
    "#plt.plot(theta, bk_zacola2quij, c='c', lw=1.5, ls ='-' , label='ZA+COLA_to_NBody')\n",
    "\n",
    "#plt.xscale('log')\n",
    "#plt.yscale('log')\n",
    "\n",
    "llim = theta[0]#0.01\n",
    "ulim = theta[-1]#1.0\n",
    "#plt.xlim(llim, ulim)\n",
    "#plt.ylim(0.94,1.05)\n",
    "\n",
    "plt.xlabel(r\"${\\theta} \\;(in \\; \\pi)$\", fontsize=18)\n",
    "plt.ylabel(r\"$B(k)$\", fontsize=18)\n",
    "plt.xticks(size=18)\n",
    "plt.yticks(size=18)\n",
    "plt.title(\"Bispectrum ratio: k1=%.2f, k2=%.2f\"%(k1,k2), fontsize=16)\n",
    "plt.legend(fontsize=16)\n",
    "\n",
    "plt.savefig(os.path.join(path_to_save,'bispectrum_ratio_1.png'), dpi=dpi)\n",
    "plt.show()"
   ]
  },
  {
   "cell_type": "markdown",
   "id": "c4d561d6-20e2-433f-ad66-9f98e2df9eca",
   "metadata": {},
   "source": [
    "# Q(k)"
   ]
  },
  {
   "cell_type": "code",
   "execution_count": null,
   "id": "5d57690e-ef8e-4198-86cd-3d19ac7671de",
   "metadata": {
    "jupyter": {
     "source_hidden": true
    },
    "tags": []
   },
   "outputs": [],
   "source": [
    "plt.figure(figsize=(12,8))\n",
    "\n",
    "plt.plot(theta, qk_quij       , c='r', lw=lw, ls ='-' , label='NBody (target)')\n",
    "plt.plot(theta, qk_cola       , c='b', lw=lw, ls ='-' , label='COLA')\n",
    "plt.plot(theta, qk_za         , c='g', lw=lw, ls ='-' , label='ZA')\n",
    "plt.plot(theta, qk_za2quij    , c='c', lw=lw, ls ='--' , label='ZA_to_NBody')\n",
    "plt.plot(theta, qk_cola2quij  , c='k', lw=lw, ls ='--', label='COLA_to_NBody')\n",
    "#plt.plot(theta, bk_zacola2quij, c='c', lw=1.5, ls ='-' , label='ZA+COLA_to_NBody')\n",
    "\n",
    "#plt.xscale('log')\n",
    "#plt.yscale('log')\n",
    "\n",
    "llim = theta[0]#0.01\n",
    "ulim = theta[-1]#1.0\n",
    "#plt.xlim(llim, ulim)\n",
    "#plt.ylim(100,10000)\n",
    "\n",
    "plt.xlabel(r\"${\\theta}$\", fontsize=18)\n",
    "plt.ylabel(r\"Reduced $B(k)$\", fontsize=18)\n",
    "plt.xticks(size=18)\n",
    "plt.yticks(size=18)\n",
    "plt.title(\"Reduced Bispectrum\", fontsize=16)\n",
    "plt.legend(fontsize=16)\n",
    "\n",
    "plt.savefig(os.path.join(path_to_save,'reduced_bispectrum.png'), dpi=dpi)\n",
    "plt.show()"
   ]
  },
  {
   "cell_type": "markdown",
   "id": "2f98af56-79b2-4f81-ada1-92b58ba8540f",
   "metadata": {},
   "source": [
    "# $[1-T(k)]^2$ "
   ]
  },
  {
   "cell_type": "code",
   "execution_count": null,
   "id": "9eee1f1e-6845-4c18-b429-6cdde7f751db",
   "metadata": {
    "jupyter": {
     "source_hidden": true
    },
    "tags": []
   },
   "outputs": [],
   "source": [
    "plt.figure(figsize=(12,8))\n",
    "\n",
    "\n",
    "plt.plot(k , (1-np.sqrt(pk_tars   /pk_tars))**2, c='r', lw=1.5, ls ='-'  , label='target (quijote)')\n",
    "plt.plot(k , (1-np.sqrt(pk_preds/pk_tars))**2  , c='k', lw=1.5, ls ='--' , label='predictions')\n",
    "plt.plot(k , (1-np.sqrt(pk_benches/pk_tars))**2, c='b', lw=1.5, ls ='--' , label='benchmark (cola)')\n",
    "\n",
    "plt.xscale('log')\n",
    "\n",
    "llim = k[0]\n",
    "ulim = 1.6\n",
    "plt.xlim(llim, ulim)\n",
    "plt.ylim(-0.01,0.04)\n",
    "\n",
    "plt.xlabel(\"k (h/Mpc)\", fontsize=18)\n",
    "plt.ylabel(r\"$(1-\\sqrt{\\frac{P(k)_x}{P(k)_{target}}})^2$\", fontsize=24).set_rotation(90)\n",
    "plt.xticks(size=18)\n",
    "plt.yticks(size=18)\n",
    "plt.legend(fontsize=16)\n",
    "\n",
    "#plt.savefig(os.path.join(path_to_save,'(1-sqrt(t))^2_upto_%.1f.png'%ulim), dpi=dpi)\n",
    "plt.show()"
   ]
  },
  {
   "cell_type": "markdown",
   "id": "7dd46142-3ab7-4223-8705-86a5b3e43c07",
   "metadata": {},
   "source": [
    "# Density Fields"
   ]
  },
  {
   "cell_type": "code",
   "execution_count": null,
   "id": "6cedabc9-bb12-44df-9394-d89083f827d9",
   "metadata": {
    "jupyter": {
     "source_hidden": true
    },
    "tags": []
   },
   "outputs": [],
   "source": [
    "#x_min, x_max  = 0.0, 50 #100 #100 #x-range; change to your case\n",
    "#y_min, y_max  = 0.0, 50 #100 #100 #y-range; change to your case\n",
    "#z_min, z_max  = 0.0, 50 #15.0 #20  #z-range; change to your case\n",
    "#boxsize=50\n",
    "\n",
    "i=131\n",
    "\n",
    "posf_target = np.load(os.path.join(rootdir, \"data\", \"test/quijposf_%d.npy\"%i))\n",
    "delta_target = get_overdensity(posf_target, projection='2D')\n",
    "#mydelta = delta_target\n",
    "#nameme = 'target'\n",
    "\n",
    "# posf_bench  = np.load(os.path.join(rootdir, \"data\", \"test/colaposf_%d.npy\"%i))\n",
    "# delta_bench = get_overdensity(posf_bench, projection='2D')\n",
    "# mydelta = delta_bench\n",
    "# nameme = 'benchmark'\n",
    "\n",
    "posf_cola2quij  = get_final_pos(poslag, rootdir, \"FINAL\", \"cola2quij\"  , \"quijdisp_%d_out.npy\"%i)\n",
    "delta_cola2quij = get_overdensity(posf_cola2quij, projection='2D')\n",
    "#mydelta = delta_cola2quij\n",
    "#nameme = 'cola2quij_1'\n",
    "\n",
    "#posf_za2quij     = get_final_pos(poslag, rootdir, \"FINAL\", \"za2quij\"    , \"quijdisp_%d_out.npy\"%i)\n",
    "#delta_za2quij     = get_overdensity(posf_za2quij, projection='2D')\n",
    "#mydelta = delta_za2quij\n",
    "#nameme = 'za2quij'\n",
    "\n",
    "#posf_zacola2quij = get_final_pos(poslag, rootdir, \"FINAL\", \"zacola2quij\", \"quijdisp_%d_out.npy\"%i)\n",
    "#delta_zacola2quij = get_overdensity(posf_zacola2quij, projection='2D')\n",
    "#mydelta = delta_zacola2quij\n",
    "#nameme = 'zacola2quij'"
   ]
  },
  {
   "cell_type": "code",
   "execution_count": null,
   "id": "7847d5d0-ef34-4c26-a0ac-ef9b31dd22de",
   "metadata": {
    "jupyter": {
     "source_hidden": true
    },
    "tags": []
   },
   "outputs": [],
   "source": [
    "i = 131\n",
    "boxsize=1000\n",
    "posf_target = np.load(os.path.join(rootdir, \"data\", \"test/quijposf_%d.npy\"%i))\n",
    "posf_cola2quij  = get_final_pos(poslag, rootdir, \"FINAL\", \"cola2quij\"  , \"quijdisp_%d_out.npy\"%i)\n",
    "print(get_stats(posf_target))\n",
    "print(get_stats(posf_cola2quij))\n",
    "\n",
    "\n",
    "x_min, x_max  = 0.0, 100 #100 #100 #x-range; change to your case\n",
    "y_min, y_max  = 0.0, 100 #100 #100 #y-range; change to your case\n",
    "z_min, z_max  = 0.0, 50 #15.0 #20  #z-range; change to your case\n",
    "boxsize=100\n",
    "grid=512\n",
    "\n",
    "def get_overdensity2(posf, MAS=deltaMAS, projection='3D'):\n",
    "    pos         = posf[:].astype(np.float32)\n",
    "    pos         = pos.reshape(3,512**3).transpose((1,0))\n",
    "    assert pos.shape==(512**3,3), \"Shape mismatch! Check input posf!\"\n",
    "    print(get_stats(pos))\n",
    "    indexes     = np.where((pos[:,0]>=x_min) & (pos[:,0]<=x_max) & (pos[:,1]>=y_min) & (pos[:,1]<=y_max) & (pos[:,2]>=z_min) & (pos[:,2]<=z_max))[0]\n",
    "    pos         = pos[indexes]\n",
    "    pos[:,0]   -= x_min\n",
    "    pos[:,1]   -= y_min\n",
    "    pos[:,2]   -= z_min\n",
    "    print(get_stats(pos))\n",
    "    \n",
    "    if projection=='2D':\n",
    "        print('Calculating 2D overdensity...')\n",
    "        pos_2D = pos[:,0:2]\n",
    "        overdensity = np.zeros((grid,grid), dtype=np.float32)\n",
    "        MASL.MA(pos_2D, overdensity, boxsize, MAS)\n",
    "        print(get_stats(pos_2D))\n",
    "    else:\n",
    "        overdensity = np.zeros((grid,grid,grid), dtype=np.float32)\n",
    "        MASL.MA(pos, overdensity, boxsize, MAS)\n",
    "    \n",
    "    print('{} should be equal to {}'.format(len(pos_2D),np.sum(overdensity)))\n",
    "    overdensity /= np.mean(overdensity)\n",
    "    #overdensity -= 1.0\n",
    "    return overdensity\n",
    "\n",
    "delta = get_overdensity2(posf_cola2quij, projection='2D')\n",
    "print(get_stats(delta))\n",
    "\n",
    "mydelta = delta\n",
    "nameme = 'cola2quij'\n",
    "\n",
    "def get_graph(overdensity, min_overdensity, max_overdensity, cmap_type, *savepath, save=True):\n",
    "    fig = plt.figure(figsize=(20,20))\n",
    "    ax  = fig.add_subplot(121)\n",
    "    ax.set_xlabel(r'$h^{-1}{\\rm Mpc}$',fontsize=18)\n",
    "    ax.set_ylabel(r'$h^{-1}{\\rm Mpc}$',fontsize=18)\n",
    "    \n",
    "    if min_overdensity==None:  min_overdensity = np.min(overdensity)\n",
    "    if max_overdensity==None:  max_overdensity = np.max(overdensity)\n",
    "    overdensity[np.where(overdensity<min_overdensity)] = min_overdensity\n",
    "    overdensity[np.where(overdensity>max_overdensity)] = max_overdensity\n",
    "\n",
    "    if scale=='linear':\n",
    "        im = ax.imshow(overdensity,cmap=cmap_type,origin='lower',\n",
    "                    extent=[x_min, x_max, y_min, y_max],\n",
    "                    interpolation='gaussian',\n",
    "                    vmin=min_overdensity,vmax=max_overdensity)\n",
    "    else:\n",
    "        im = ax.imshow(overdensity,cmap=cmap_type,origin='lower',\n",
    "                    extent=[x_min, x_max, y_min, y_max],\n",
    "                    interpolation='gaussian',\n",
    "                    norm = LogNorm(vmin=min_overdensity,vmax=max_overdensity))\n",
    "\n",
    "    divider = make_axes_locatable(ax)\n",
    "    div     = divider.append_axes(\"right\", size=\"5%\", pad=0.05)\n",
    "    cbar    = fig.colorbar(im, cax=div)\n",
    "    cbar.set_label(r\"$\\rho/\\bar{\\rho}$\",fontsize=20)\n",
    "    if save:\n",
    "        filename = os.path.join(*savepath)\n",
    "        plt.savefig(filename, bbox_inches='tight', dpi=dpi)\n",
    "    plt.show()\n",
    "    return None\n",
    "\n",
    "#get_stats(delta_target)\n",
    "\n",
    "scale='log'\n",
    "get_graph(mydelta, 0.1,40, 'viridis',\n",
    "          \"/scratch/gpfs/QUIJOTE\",\"FINAL\",\"graphs\",\"STATE100\",\"small_density_contrast_%s.png\"%nameme, save=True)"
   ]
  },
  {
   "cell_type": "code",
   "execution_count": null,
   "id": "f6434f66-7d1e-482c-a1c4-ceeaca343c70",
   "metadata": {
    "jupyter": {
     "source_hidden": true
    },
    "tags": []
   },
   "outputs": [],
   "source": [
    "get_stats(posf_target)\n",
    "\n",
    "get_stats(posf_cola2quij)\n",
    "\n",
    "get_stats(posf_za2quij)"
   ]
  }
 ],
 "metadata": {
  "kernelspec": {
   "display_name": "Python 3",
   "language": "python",
   "name": "python3"
  },
  "language_info": {
   "codemirror_mode": {
    "name": "ipython",
    "version": 3
   },
   "file_extension": ".py",
   "mimetype": "text/x-python",
   "name": "python",
   "nbconvert_exporter": "python",
   "pygments_lexer": "ipython3",
   "version": "3.8.10"
  }
 },
 "nbformat": 4,
 "nbformat_minor": 5
}
